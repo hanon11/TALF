{
 "cells": [
  {
   "cell_type": "code",
   "execution_count": 1,
   "id": "b7406d01",
   "metadata": {},
   "outputs": [],
   "source": [
    "from sly import Lexer"
   ]
  },
  {
   "cell_type": "code",
   "execution_count": 2,
   "id": "60739c6e",
   "metadata": {},
   "outputs": [],
   "source": [
    "class CalcLexer(Lexer):\n",
    "    # Set of token names. This is always required \n",
    "    tokens = { NUMBER, PLUS, TIMES, MINUS, DIV, ASSIGN, ID, LPAREN,RPAREN }\n",
    "    #literals = {'+', '*', '-'}\n",
    "    \n",
    "    ignore = ' \\t'\n",
    "    PLUS   = r'\\+' \n",
    "    TIMES  = r'\\*'\n",
    "    MINUS  = r'\\-' \n",
    "    DIV    = r'\\/' \n",
    "    ASSIGN = r'\\='\n",
    "    LPAREN = r'\\('\n",
    "    RPAREN = r'\\)'\n",
    "    ignore_newline = r'\\n+'\n",
    "      \n",
    "    @_(r'\\d+')\n",
    "    def NUMBER(self, t):\n",
    "        t.value = int(t.value) \n",
    "        return t\n",
    "        # Line number tracking\n",
    "        \n",
    "    @_(r'\\w+')\n",
    "    def ID(self, t):\n",
    "        return t\n",
    "    \n",
    "    @_(r'\\n+')\n",
    "    def ignore_newline(self, t):\n",
    "        self.lineno += t.value.count('\\n')\n",
    "        \n",
    "    def error(self, t):\n",
    "        print('Line %d: Bad character %r' % (self.lineno, t.value[0])) \n",
    "        self.index += 1\n",
    "        "
   ]
  },
  {
   "cell_type": "code",
   "execution_count": 3,
   "id": "c8c6cdf3",
   "metadata": {},
   "outputs": [],
   "source": [
    "text = ''' 2*2-2/2+(2-2) '''\n",
    "lexer = CalcLexer()\n",
    "#for token in lexer.tokenize(text):\n",
    "    #print(token)"
   ]
  },
  {
   "cell_type": "code",
   "execution_count": 4,
   "id": "f05a6fc0",
   "metadata": {},
   "outputs": [
    {
     "name": "stderr",
     "output_type": "stream",
     "text": [
      "WARNING: 14 shift/reduce conflicts\n",
      "WARNING: 19 reduce/reduce conflicts\n"
     ]
    }
   ],
   "source": [
    "from sly import Parser\n",
    "class CalcParser(Parser): \n",
    "    def __init__(self):\n",
    "        self.vars = {}\n",
    "    # Get the token list from the lexer (required)\n",
    "    tokens = CalcLexer.tokens\n",
    "    # Grammar rules and actions   \n",
    "    @_('ID ASSIGN E')\n",
    "    def assign(self,p):\n",
    "        self.vars[p.ID] = p.E\n",
    "        print(self.vars[p.ID])\n",
    "        \n",
    "    @_('E')\n",
    "    def assign(self,p):\n",
    "        return p.E\n",
    "    \n",
    "    @_('MINUS E')\n",
    "    def E(self, p):\n",
    "        return -p.E \n",
    "    \n",
    "    @_('NUMBER')\n",
    "    def E(self, p):\n",
    "        return p.NUMBER\n",
    "    \n",
    "    @_('ID')\n",
    "    def E(self, p):\n",
    "        return self.vars[p.ID]\n",
    "    \n",
    "    @_('MINUS NUMBER')\n",
    "    def E(self, p):\n",
    "        return -p.NUMBER\n",
    "    \n",
    "    @_('E')\n",
    "    def E1(self,p):\n",
    "        return p.E\n",
    "    \n",
    "    @_('E PLUS suma')\n",
    "    def E(self, p):\n",
    "        return p.E + p.suma\n",
    "    \n",
    "    @_('suma')\n",
    "    def E(self, p):\n",
    "        return p.suma\n",
    "    \n",
    "    @_('suma TIMES fact') \n",
    "    def suma(self, p):\n",
    "        return p.suma * p.fact\n",
    "    \n",
    "    @_('fact')\n",
    "    def suma(self, p):\n",
    "        return p.fact\n",
    "    \n",
    "    @_('NUMBER')\n",
    "    def fact(self, p):\n",
    "        return p.NUMBER\n",
    "    \n",
    "    @_('E ASSIGN E1')\n",
    "    def E(self, p):\n",
    "        self.vars[p.E] = p.E1\n",
    "    \n",
    "    @_('E MINUS E1')\n",
    "    def E(self, p):\n",
    "        return p.E - p.E1\n",
    "    \n",
    "    @_('E DIV E1')\n",
    "    def E(self, p):\n",
    "        return p.E / p.E1\n",
    "    \n",
    "    @_('E TIMES E1')\n",
    "    def E(self, p):\n",
    "        return p.E * p.E1\n",
    "    \n",
    "    @_('LPAREN E RPAREN')\n",
    "    def E(self, p):\n",
    "        return p.E\n",
    "    \n",
    "    "
   ]
  },
  {
   "cell_type": "code",
   "execution_count": null,
   "id": "8722da60",
   "metadata": {},
   "outputs": [
    {
     "name": "stdout",
     "output_type": "stream",
     "text": [
      "Introduce operation: x = y = 2 * -(3 + 5) * 5\n",
      "None\n",
      "None\n",
      "Introduce operation: x\n",
      "None\n",
      "Introduce operation: y\n",
      "-80\n"
     ]
    }
   ],
   "source": [
    "lexer = CalcLexer() \n",
    "parser = CalcParser()\n",
    "while True: \n",
    "    try:\n",
    "        text = input('Introduce operation: ') \n",
    "        result = parser.parse(lexer.tokenize(text)) \n",
    "        print(result)\n",
    "        if len(text)==0:\n",
    "            break \n",
    "    except:\n",
    "        break"
   ]
  },
  {
   "cell_type": "markdown",
   "id": "0b65ef15",
   "metadata": {},
   "source": []
  }
 ],
 "metadata": {
  "kernelspec": {
   "display_name": "Python 3 (ipykernel)",
   "language": "python",
   "name": "python3"
  },
  "language_info": {
   "codemirror_mode": {
    "name": "ipython",
    "version": 3
   },
   "file_extension": ".py",
   "mimetype": "text/x-python",
   "name": "python",
   "nbconvert_exporter": "python",
   "pygments_lexer": "ipython3",
   "version": "3.9.7"
  }
 },
 "nbformat": 4,
 "nbformat_minor": 5
}
