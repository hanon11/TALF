{
 "cells": [
  {
   "cell_type": "code",
   "execution_count": 5,
   "id": "914d36c6",
   "metadata": {},
   "outputs": [],
   "source": [
    "from sly import Lexer"
   ]
  },
  {
   "cell_type": "code",
   "execution_count": 14,
   "id": "18daaccc",
   "metadata": {},
   "outputs": [],
   "source": [
    "class CalcLexer(Lexer):\n",
    "    # Set of token names. This is always required \n",
    "    tokens = { NUMBER, PLUS, TIMES, ASSIGN, ID}\n",
    "    literals = {'+', '*'}\n",
    "    # String containing ignored characters\n",
    "    ignore = ' \\t'\n",
    "    # Regular expression rules for tokens\n",
    "    PLUS = r'\\+' \n",
    "    TIMES = r'\\*'\n",
    "    ignore_newline = r'\\n+'\n",
    "    \n",
    "    @_(r'\\d+')\n",
    "    def NUMBER(self, t):\n",
    "        t.value = int(t.value) \n",
    "        return t\n",
    "        # Line number tracking\n",
    "    @_(r'\\n+')\n",
    "    def ignore_newline(self, t):\n",
    "        self.lineno += t.value.count('\\n')\n",
    "    def error(self, t):\n",
    "        print('Line %d: Bad character %r' % (self.lineno, t.value[0])) \n",
    "        self.index += 1\n",
    "        "
   ]
  },
  {
   "cell_type": "code",
   "execution_count": 15,
   "id": "6aa2d0a3",
   "metadata": {},
   "outputs": [
    {
     "name": "stdout",
     "output_type": "stream",
     "text": [
      "Token(type='NUMBER', value=2, lineno=1, index=1)\n",
      "Token(type='TIMES', value='*', lineno=1, index=2)\n",
      "Token(type='NUMBER', value=2, lineno=1, index=3)\n",
      "Token(type='PLUS', value='+', lineno=1, index=4)\n",
      "Token(type='NUMBER', value=2, lineno=1, index=5)\n"
     ]
    }
   ],
   "source": [
    "text = ''' 2*2+2 '''\n",
    "lexer = CalcLexer()\n",
    "for token in lexer.tokenize(text):\n",
    "    print(token)"
   ]
  },
  {
   "cell_type": "code",
   "execution_count": 17,
   "id": "fadad117",
   "metadata": {},
   "outputs": [
    {
     "name": "stderr",
     "output_type": "stream",
     "text": [
      "WARNING: Token(s) {ASSIGN,ID} defined, but not used\n",
      "WARNING: There are 2 unused tokens\n"
     ]
    }
   ],
   "source": [
    "from sly import Parser\n",
    "class CalcParser(Parser): \n",
    "    def __init__(self):\n",
    "        self.vars = {}\n",
    "    # Get the token list from the lexer (required)\n",
    "    tokens = CalcLexer.tokens\n",
    "    # Grammar rules and actions \n",
    "    @_('E PLUS suma')\n",
    "    def E(self, p):\n",
    "        return p.E + p.suma\n",
    "    @_('suma')\n",
    "    def E(self, p):\n",
    "        return p.suma\n",
    "    @_('suma TIMES fact') \n",
    "    def suma(self, p):\n",
    "        return p.suma * p.fact\n",
    "    @_('fact')\n",
    "    def suma(self, p):\n",
    "        return p.fact\n",
    "    @_('NUMBER')\n",
    "    def fact(self, p):\n",
    "        return p.NUMBER"
   ]
  },
  {
   "cell_type": "code",
   "execution_count": 20,
   "id": "a427ca37",
   "metadata": {},
   "outputs": [
    {
     "name": "stdout",
     "output_type": "stream",
     "text": [
      "Introduce operation: 2+2\n",
      "4\n",
      "Introduce operation: \n",
      "None\n"
     ]
    },
    {
     "name": "stderr",
     "output_type": "stream",
     "text": [
      "sly: Parse error in input. EOF\n"
     ]
    }
   ],
   "source": [
    "lexer = CalcLexer() \n",
    "parser = CalcParser()\n",
    "while True: \n",
    "    try:\n",
    "        text = input('Introduce operation: ') \n",
    "        result = parser.parse(lexer.tokenize(text)) \n",
    "        print(result)\n",
    "        if len(text)==0:\n",
    "            break \n",
    "    except:\n",
    "        break"
   ]
  },
  {
   "cell_type": "code",
   "execution_count": null,
   "id": "374d6a78",
   "metadata": {},
   "outputs": [],
   "source": []
  }
 ],
 "metadata": {
  "kernelspec": {
   "display_name": "Python 3 (ipykernel)",
   "language": "python",
   "name": "python3"
  },
  "language_info": {
   "codemirror_mode": {
    "name": "ipython",
    "version": 3
   },
   "file_extension": ".py",
   "mimetype": "text/x-python",
   "name": "python",
   "nbconvert_exporter": "python",
   "pygments_lexer": "ipython3",
   "version": "3.9.7"
  }
 },
 "nbformat": 4,
 "nbformat_minor": 5
}
