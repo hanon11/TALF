{
 "cells": [
  {
   "cell_type": "code",
   "execution_count": null,
   "id": "23f86c14",
   "metadata": {},
   "outputs": [],
   "source": [
    "!pip install sly"
   ]
  },
  {
   "cell_type": "code",
   "execution_count": 1,
   "id": "fefc54a1",
   "metadata": {},
   "outputs": [],
   "source": [
    "from sly import Lexer"
   ]
  },
  {
   "cell_type": "code",
   "execution_count": 47,
   "id": "ab000027",
   "metadata": {},
   "outputs": [
    {
     "name": "stdout",
     "output_type": "stream",
     "text": [
      "Linea: 1; Type: COMMENT2; Value: /* hola adios  */\n",
      "Linea: 2; Type: INT; Value: int\n",
      "Linea: 4; Type: INT; Value: int\n",
      "Linea: 4; Type: NUMEROS_ENTEROS; Value: 0\n",
      "Linea: 5; Type: FLOAT; Value: float\n",
      "Linea: 5; Type: NUMEROS_FLOAT; Value: 0.3\n",
      "Linea: 6; Type: CHAR; Value: char\n",
      "Linea: 7; Type: FOR; Value: for\n",
      "Linea: 7; Type: INT; Value: int\n",
      "Linea: 7; Type: NUMEROS_ENTEROS; Value: 0\n",
      "Linea: 7; Type: NUMEROS_ENTEROS; Value: 1\n",
      "Linea: 7; Type: NUMEROS_ENTEROS; Value: 0\n",
      "Linea: 9; Type: RETURN; Value: return\n",
      "Linea: 9; Type: NUMEROS_ENTEROS; Value: 0\n"
     ]
    }
   ],
   "source": [
    "class Example(Lexer):\n",
    "    # errores\n",
    "    def error(self, t):\n",
    "        print(t)\n",
    "        # print(f'Illegal character {t.value[0]}') \n",
    "        self.index += 1\n",
    "    \n",
    "    tokens = {ID, IF, THEN, ELSE, WHILE, INT, FLOAT, CHAR, FOR, RETURN, COMMENT1, COMMENT2, BARRA, \n",
    "              NUMEROS_FLOAT, NUMEROS_ENTEROS, ASTERISCO, SALTO}\n",
    "    # String containing ignored characters (between tokens)\n",
    "    ignore = r' \\t\\[\\]\\(\\)\\{\\}+-<>=\\'\\\";' # Base ID rule\n",
    "    ID = r'[a-zA-Z_][a-zA-Z0-9_]*'\n",
    "    COMMENT1 = r'//[ a-zA-Z_][ a-zA-Z0-9_ \\s]*'\n",
    "    COMMENT2 = r'/\\*[ a-zA-Z_][ a-zA-Z0-9_ \\s]* \\*/'\n",
    "    BARRA = r'/'\n",
    "    ASTERISCO = r'\\*'\n",
    "    NUMEROS_FLOAT = r'\\d+\\.\\d+'\n",
    "    NUMEROS_ENTEROS = r'[0-9]'\n",
    "    SALTO = r'\\n'\n",
    "    # Special cases\n",
    "    ID['if'] = IF \n",
    "    ID['then'] = THEN\n",
    "    ID['else'] = ELSE \n",
    "    ID['while'] = WHILE\n",
    "    ID['int'] = INT\n",
    "    ID['float'] = FLOAT\n",
    "    ID['char'] = CHAR\n",
    "    ID['for'] = FOR\n",
    "    ID['return'] = RETURN\n",
    "    \n",
    "    \n",
    "f = open(\"input.txt\")\n",
    "lineas = f.readlines()\n",
    "lexer = Example()\n",
    "i = 1;\n",
    "for linea in lineas:\n",
    "    #print(linea)\n",
    "    for token in lexer.tokenize(linea):\n",
    "        if token.type != 'ID' and token.type != 'SALTO' and token.type != 'ASTERISCO' and token.type != 'BARRA':\n",
    "            print(f'Linea: {i}; Type: {token.type}; Value: {token.value}')\n",
    "    i = i+1;\n",
    "\n",
    "f.close()"
   ]
  },
  {
   "cell_type": "code",
   "execution_count": null,
   "id": "9aa33740",
   "metadata": {},
   "outputs": [],
   "source": []
  }
 ],
 "metadata": {
  "kernelspec": {
   "display_name": "Python 3 (ipykernel)",
   "language": "python",
   "name": "python3"
  },
  "language_info": {
   "codemirror_mode": {
    "name": "ipython",
    "version": 3
   },
   "file_extension": ".py",
   "mimetype": "text/x-python",
   "name": "python",
   "nbconvert_exporter": "python",
   "pygments_lexer": "ipython3",
   "version": "3.9.7"
  }
 },
 "nbformat": 4,
 "nbformat_minor": 5
}
